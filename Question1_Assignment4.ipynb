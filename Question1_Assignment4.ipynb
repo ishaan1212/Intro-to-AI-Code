{
  "nbformat": 4,
  "nbformat_minor": 0,
  "metadata": {
    "colab": {
      "provenance": []
    },
    "kernelspec": {
      "name": "python3",
      "display_name": "Python 3"
    },
    "language_info": {
      "name": "python"
    }
  },
  "cells": [
    {
      "cell_type": "code",
      "execution_count": 8,
      "metadata": {
        "colab": {
          "base_uri": "https://localhost:8080/"
        },
        "id": "M8UXT2oAONhl",
        "outputId": "0d7204fc-45d6-459b-8163-ca901e824075"
      },
      "outputs": [
        {
          "output_type": "stream",
          "name": "stdout",
          "text": [
            "Minimax result: 6\n",
            "Alpha-Beta Pruning result: 6\n"
          ]
        }
      ],
      "source": [
        "import math\n",
        "\n",
        "MIN = -math.inf\n",
        "MAX = math.inf\n",
        "\n",
        "def alpha_beta_pruning_methodolgy(depth, nodeIndex, alpha, beta, maximizingPlayer, values):\n",
        "    if depth == 3:\n",
        "        return values[nodeIndex]\n",
        "\n",
        "    if maximizingPlayer:\n",
        "        best = MIN\n",
        "        for i in range(0, 2):\n",
        "            val = alpha_beta_pruning_methodolgy(depth + 1, nodeIndex * 2 + i, alpha, beta, False, values)\n",
        "            best = max(best, val)\n",
        "            alpha = max(alpha, best)\n",
        "            if beta <= alpha:\n",
        "                break\n",
        "        return best\n",
        "\n",
        "    else:\n",
        "        best = MAX\n",
        "        for i in range(0, 2):\n",
        "            val = alpha_beta_pruning_methodolgy(depth + 1, nodeIndex * 2 + i, alpha, beta, True, values)\n",
        "            best = min(best, val)\n",
        "            beta = min(beta, best)\n",
        "            if beta <= alpha:\n",
        "                break\n",
        "        return best\n",
        "\n",
        "def mini_max_algorithm(depth, nodeIndex, maximizingPlayer, values, alpha, beta):\n",
        "    if depth == 3:\n",
        "        return values[nodeIndex]\n",
        "\n",
        "    if maximizingPlayer:\n",
        "        best = MIN\n",
        "        for i in range(0, 2):\n",
        "            val = mini_max_algorithm(depth + 1, nodeIndex * 2 + i, False, values, alpha, beta)\n",
        "            best = max(best, val)\n",
        "        return best\n",
        "\n",
        "    else:\n",
        "        best = MAX\n",
        "        for i in range(0, 2):\n",
        "            val = mini_max_algorithm(depth + 1, nodeIndex * 2 + i, True, values, alpha, beta)\n",
        "            best = min(best, val)\n",
        "        return best\n",
        "\n",
        "if __name__ == \"__main__\":\n",
        "    input_values = [5,7,6,3,2,1,-2,4]\n",
        "    minimax_result = mini_max_algorithm(0, 0, True, input_values, MIN, MAX)\n",
        "    print(\"The result provided by minimax algorithm is:\", minimax_result)\n",
        "    alpha_beta_result = alpha_beta_pruning_methodolgy(0, 0, MIN, MAX, True, input_values)\n",
        "    print(\"The Result Provided by Alpha Beta pruning methodology is:\", alpha_beta_result)\n"
      ]
    }
  ]
}